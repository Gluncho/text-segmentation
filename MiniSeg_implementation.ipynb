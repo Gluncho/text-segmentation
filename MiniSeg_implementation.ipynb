{
  "cells": [
    {
      "cell_type": "markdown",
      "metadata": {
        "id": "Op19najY8Msm"
      },
      "source": [
        "# MiniSeg"
      ]
    },
    {
      "cell_type": "markdown",
      "metadata": {
        "id": "TstYV3rT8beN"
      },
      "source": [
        "## Initialization"
      ]
    },
    {
      "cell_type": "code",
      "execution_count": null,
      "metadata": {
        "id": "SxqS5JoM8cv1"
      },
      "outputs": [],
      "source": [
        "!pip install -qU torch accelerate transformers transformers[torch] datasets sentence-transformers evaluate nltk segeval pynvml wandb"
      ]
    },
    {
      "cell_type": "code",
      "execution_count": null,
      "metadata": {
        "id": "VCTTwKLpfifj"
      },
      "outputs": [],
      "source": [
        "from pynvml import *\n",
        "\n",
        "def print_gpu_utilization():\n",
        "    nvmlInit()\n",
        "    handle = nvmlDeviceGetHandleByIndex(0)\n",
        "    info = nvmlDeviceGetMemoryInfo(handle)\n",
        "    print(f\"GPU memory occupied: {info.used//1024**2} MB.\")"
      ]
    },
    {
      "cell_type": "code",
      "execution_count": null,
      "metadata": {
        "colab": {
          "base_uri": "https://localhost:8080/"
        },
        "id": "mOwq4N4gDnTq",
        "outputId": "d95de4be-78e8-4288-b4fb-31da9e722a8c"
      },
      "outputs": [
        {
          "name": "stderr",
          "output_type": "stream",
          "text": [
            "\u001b[34m\u001b[1mwandb\u001b[0m: \u001b[33mWARNING\u001b[0m Calling wandb.login() after wandb.init() has no effect.\n"
          ]
        }
      ],
      "source": [
        "import wandb\n",
        "from google.colab import userdata\n",
        "\n",
        "\n",
        "os.environ[\"WANDB_PROJECT\"] = \"miniseg\"\n",
        "os.environ[\"WANDB_LOG_MODEL\"] = \"checkpoint\"\n",
        "\n",
        "wandb.login(key=userdata.get('WANDB_API_KEY'))"
      ]
    },
    {
      "cell_type": "markdown",
      "metadata": {
        "id": "I47hOiKEBRX1"
      },
      "source": [
        "### Data"
      ]
    },
    {
      "cell_type": "code",
      "execution_count": null,
      "metadata": {
        "colab": {
          "base_uri": "https://localhost:8080/"
        },
        "id": "QgPy3_zxfWfO",
        "outputId": "89376684-d141-4ef9-8439-ee78bfb9b872"
      },
      "outputs": [
        {
          "name": "stdout",
          "output_type": "stream",
          "text": [
            "DatasetDict({\n",
            "    train: Dataset({\n",
            "        features: ['text', 'labels'],\n",
            "        num_rows: 14377\n",
            "    })\n",
            "    validation: Dataset({\n",
            "        features: ['text', 'labels'],\n",
            "        num_rows: 1256\n",
            "    })\n",
            "    test: Dataset({\n",
            "        features: ['text', 'labels'],\n",
            "        num_rows: 1266\n",
            "    })\n",
            "})\n"
          ]
        }
      ],
      "source": [
        "from datasets import load_dataset\n",
        "\n",
        "data_files = {\n",
        "    \"train\": \"data/partitions/yt_seg.train.json\",\n",
        "    \"validation\": \"data/partitions/yt_seg.val.json\",\n",
        "    \"test\": \"data/partitions/yt_seg.test.json\"\n",
        "}\n",
        "\n",
        "dataset = load_dataset(\"retkowski/ytseg\", data_files=data_files)\n",
        "\n",
        "\n",
        "def map_fn(data):\n",
        "  data[\"targets\"] = [1 if c == '1' else 0 for c in data[\"targets\"][2:]] # Remove '|=' prefix\n",
        "  return data\n",
        "\n",
        "dataset = dataset.map(\n",
        "    map_fn,\n",
        "    remove_columns=[\"channel_id\", \"video_id\", \"audio_path\"]\n",
        ")\n",
        "\n",
        "dataset = dataset.filter(\n",
        "    lambda row: len(row[\"text\"]) < 800 and max(len(sentence) for sentence in row[\"text\"]) < 500\n",
        ")\n",
        "\n",
        "dataset = dataset.rename_column(\"targets\", \"labels\")\n",
        "\n",
        "dataset.set_format('torch')\n",
        "print(dataset)"
      ]
    },
    {
      "cell_type": "code",
      "execution_count": null,
      "metadata": {
        "colab": {
          "base_uri": "https://localhost:8080/",
          "height": 113,
          "referenced_widgets": [
            "aea6f9e2a9a146749c405bb4f45a5639",
            "cadec94c152047cea966849a4cf354bc",
            "7920c3c5e1e14d9699121bc22f19c3e2",
            "9474016fae314d5188a914705cdc24da",
            "61d8d84e7ca84bfbbfa2863e4d519333",
            "2e05b40c65fc44cfa78383db464dc3d6",
            "f1e06a61bcb049a09f0411ccaf1ed46f",
            "64fb5798af5e4b9caf3a4b60331a1f33",
            "16181d228eff49c393f573566a75243c",
            "e6e97034787a47d3a3daf2a8b7114411",
            "7db20907e6894191aedda97574436e88",
            "1346b570d7164ca6864cc48775e5e85a",
            "cf34d6ea303c4c8f9b4d1ac1d3966dc3",
            "e95094ba638849b2b8dddbc0226adeab",
            "fc54e5cc48be432e8cb5158d8f37ca85",
            "55058db65dcd45ec8f7a2919994a021f",
            "bffd3021960c463fa394656d1c2eef38",
            "0250a2072c9f4c7cbf961204bee90d8e",
            "1197f394a3924cbaba0f74a7ea960554",
            "4986d9039c4c4f1fa7b990b695faf8a9",
            "3bd0a5cc3529486988206f12a3ea2897",
            "e5d7e1ff59fa4a1ea549e91969e00180",
            "ccc3ef6148544feba890e1a14b398a88",
            "9fdc3cbd41e744d2af9e03964ca19b8b",
            "8bc1d4c75f0d47ceaa72bceb6ae5cb96",
            "f0c6d32e7582414891169f7d2210cf13",
            "15d71ad1cbe24507932b1cc9cdd9b5c3",
            "94ff240af15446b8ac45c5e009fe2a7e",
            "fb43f01ae6ab4676a5e2802970229122",
            "99f84e2b25334b9b8fae0e28d62e895e",
            "67bd2059c47f439b94778604cf27c6fd",
            "2738fb0dff4045bcaee91be5e3773206",
            "840490d4f4a1414e90c69c062ef62441"
          ]
        },
        "id": "vflS9_--kqLC",
        "outputId": "5f791a2a-9a71-4935-c51f-84ffdb899a7d"
      },
      "outputs": [
        {
          "data": {
            "application/vnd.jupyter.widget-view+json": {
              "model_id": "aea6f9e2a9a146749c405bb4f45a5639",
              "version_major": 2,
              "version_minor": 0
            },
            "text/plain": [
              "Saving the dataset (0/1 shards):   0%|          | 0/14377 [00:00<?, ? examples/s]"
            ]
          },
          "metadata": {},
          "output_type": "display_data"
        },
        {
          "data": {
            "application/vnd.jupyter.widget-view+json": {
              "model_id": "1346b570d7164ca6864cc48775e5e85a",
              "version_major": 2,
              "version_minor": 0
            },
            "text/plain": [
              "Saving the dataset (0/1 shards):   0%|          | 0/1256 [00:00<?, ? examples/s]"
            ]
          },
          "metadata": {},
          "output_type": "display_data"
        },
        {
          "data": {
            "application/vnd.jupyter.widget-view+json": {
              "model_id": "ccc3ef6148544feba890e1a14b398a88",
              "version_major": 2,
              "version_minor": 0
            },
            "text/plain": [
              "Saving the dataset (0/1 shards):   0%|          | 0/1266 [00:00<?, ? examples/s]"
            ]
          },
          "metadata": {},
          "output_type": "display_data"
        }
      ],
      "source": [
        "dataset.save_to_disk(\"ytseg_clean\")"
      ]
    },
    {
      "cell_type": "code",
      "execution_count": null,
      "metadata": {
        "colab": {
          "base_uri": "https://localhost:8080/",
          "height": 430
        },
        "id": "sDoF4f97TwU8",
        "outputId": "49b2af28-2b6e-4e7d-816c-c0623dbf8a72"
      },
      "outputs": [
        {
          "data": {
            "image/png": "[encoded data removed]",
            "text/plain": [
              "<Figure size 640x480 with 1 Axes>"
            ]
          },
          "metadata": {},
          "output_type": "display_data"
        }
      ],
      "source": [
        "import matplotlib.pyplot as plt\n",
        "\n",
        "plt.hist([len(text) for text in dataset[\"train\"][\"text\"]])\n",
        "plt.hist([len(text) for text in dataset[\"validation\"][\"text\"]])\n",
        "plt.hist([len(text) for text in dataset[\"test\"][\"text\"]])\n",
        "plt.show()"
      ]
    },
    {
      "cell_type": "code",
      "execution_count": null,
      "metadata": {
        "colab": {
          "base_uri": "https://localhost:8080/",
          "height": 430
        },
        "id": "jR9DX_Qjm62B",
        "outputId": "8a1cd24d-9241-45c7-9ab8-79b81af5474b"
      },
      "outputs": [
        {
          "data": {
            "image/png": "[encoded data removed]",
            "text/plain": [
              "<Figure size 640x480 with 1 Axes>"
            ]
          },
          "metadata": {},
          "output_type": "display_data"
        }
      ],
      "source": [
        "plt.hist([max(len(sentence) for sentence in text) for text in dataset[\"train\"][\"text\"]])\n",
        "plt.hist([max(len(sentence) for sentence in text) for text in dataset[\"validation\"][\"text\"]])\n",
        "plt.hist([max(len(sentence) for sentence in text) for text in dataset[\"test\"][\"text\"]])\n",
        "plt.show()"
      ]
    },
    {
      "cell_type": "markdown",
      "metadata": {
        "id": "5nwwffMFBbc2"
      },
      "source": [
        "### The Model"
      ]
    },
    {
      "cell_type": "code",
      "execution_count": null,
      "metadata": {
        "id": "PH0SWSRLZ65U"
      },
      "outputs": [],
      "source": [
        "import numpy as np\n",
        "import torch\n",
        "import gc\n",
        "from torch import nn\n",
        "import torch.nn.functional as F\n",
        "import torch.nn.utils.rnn as rnn_utils\n",
        "from transformers.modeling_outputs import TokenClassifierOutput\n",
        "\n",
        "device = 'cuda' if torch.cuda.is_available() else 'cpu'\n",
        "assert device == 'cuda'\n",
        "\n",
        "class MiniSeg(nn.Module):\n",
        "  def __init__(self, sentence_encoder, doc_encoder):\n",
        "    super(MiniSeg, self).__init__()\n",
        "    self.num_labels = 2\n",
        "    self.sentence_encoder = sentence_encoder\n",
        "    self.doc_encoder = doc_encoder\n",
        "\n",
        "  def forward(self, texts, labels_list):\n",
        "    batch_sentence_embeddings = [\n",
        "        self._get_sentence_encoding(self.sentence_encoder(**text), text[\"attention_mask\"]) for text in texts\n",
        "    ]\n",
        "\n",
        "    lengths = torch.tensor([len(text) for text in batch_sentence_embeddings]).to(device)\n",
        "\n",
        "    padded_embeddings = rnn_utils.pad_sequence(batch_sentence_embeddings, batch_first=True)\n",
        "\n",
        "    masks = self._generate_masks(\n",
        "        lengths,\n",
        "        padded_embeddings.size(1),\n",
        "        padded_embeddings.size(0),\n",
        "    ).float()\n",
        "\n",
        "    result = self.doc_encoder(\n",
        "        inputs_embeds=padded_embeddings,\n",
        "        attention_mask=masks,\n",
        "        labels=labels_list,\n",
        "        return_dict=True\n",
        "    )\n",
        "    return result\n",
        "\n",
        "  def _generate_masks(self, lengths, max_len, batch_size):\n",
        "    return torch.arange(max_len).to(device).expand(len(lengths), max_len) < lengths.unsqueeze(1)\n",
        "\n",
        "  def _get_sentence_encoding(self, encoder_output, attention_mask):\n",
        "    # Perform pooling\n",
        "    sentence_embeddings = self.mean_pooling(encoder_output, attention_mask)\n",
        "\n",
        "    # Normalize embeddings\n",
        "    sentence_embeddings = F.normalize(sentence_embeddings, p=2, dim=1)\n",
        "    return sentence_embeddings\n",
        "\n",
        "  def mean_pooling(self, model_output, attention_mask):\n",
        "    token_embeddings = model_output[0] # First element of model_output contains all token embeddings\n",
        "    input_mask_expanded = attention_mask.unsqueeze(-1).expand(token_embeddings.size()).float()\n",
        "    return torch.sum(token_embeddings * input_mask_expanded, 1) / torch.clamp(input_mask_expanded.sum(1), min=1e-9)\n",
        "\n",
        "  def gradient_checkpointing_enable(self, gradient_checkpointing_kwargs=None):\n",
        "    self.sentence_encoder.gradient_checkpointing_enable(gradient_checkpointing_kwargs)\n",
        "    self.doc_encoder.gradient_checkpointing_enable(gradient_checkpointing_kwargs)\n"
      ]
    },
    {
      "cell_type": "code",
      "execution_count": null,
      "metadata": {
        "id": "1dh37wGhd-F7"
      },
      "outputs": [],
      "source": [
        "from transformers import AutoTokenizer, AutoModel, RoFormerForTokenClassification, RoFormerConfig\n",
        "from sentence_transformers import SentenceTransformer\n",
        "\n",
        "tokenizer = AutoTokenizer.from_pretrained('sentence-transformers/paraphrase-MiniLM-L6-v2')\n",
        "sentence_encoder = AutoModel.from_pretrained('sentence-transformers/paraphrase-MiniLM-L6-v2')\n",
        "\n",
        "cfg = RoFormerConfig(embedding_size=384, num_hidden_layers=12, num_attention_heads=8, num_labels=2)\n",
        "doc_encoder = RoFormerForTokenClassification(cfg)\n",
        "\n",
        "model = MiniSeg(sentence_encoder, doc_encoder).to(device)"
      ]
    },
    {
      "cell_type": "markdown",
      "metadata": {
        "id": "NpqlTCZrGjU9"
      },
      "source": [
        "## Training"
      ]
    },
    {
      "cell_type": "code",
      "execution_count": null,
      "metadata": {
        "id": "5N3EQfcUDaLb"
      },
      "outputs": [],
      "source": [
        "class CustomDataCollator:\n",
        "  def __init__(self, tokenizer):\n",
        "    self.tokenizer = tokenizer\n",
        "\n",
        "  def __call__(self, entries):\n",
        "    # Why tf is this a list\n",
        "\n",
        "    texts, labels_list = zip(*[ # Super-cool \"splat\" operator\n",
        "        self._process_entry(entry) for entry in entries\n",
        "    ])\n",
        "\n",
        "    padded_labels_list = torch.nn.utils.rnn.pad_sequence(labels_list, batch_first=True, padding_value=-100)\n",
        "    batch = {\n",
        "        \"texts\": texts,\n",
        "        \"labels_list\": torch.tensor(padded_labels_list)\n",
        "    }\n",
        "\n",
        "    return batch\n",
        "\n",
        "  def _process_entry(self, entry):\n",
        "    text = self.tokenizer(entry[\"text\"], padding=True, truncation=True, return_tensors='pt')\n",
        "    labels = self._process_labels_string(entry[\"labels\"])\n",
        "    return text, labels\n",
        "\n",
        "  def _process_labels_string(self, labels):\n",
        "    return torch.tensor([int(c) for c in labels])\n"
      ]
    },
    {
      "cell_type": "code",
      "execution_count": null,
      "metadata": {
        "id": "AtyO_vcYDY6F"
      },
      "outputs": [],
      "source": [
        "import nltk\n",
        "import segeval\n",
        "import evaluate\n",
        "\n",
        "accuracy_metric = evaluate.load(\"accuracy\")\n",
        "precision_metric = evaluate.load(\"precision\")\n",
        "recall_metric = evaluate.load(\"recall\")\n",
        "f1_metric = evaluate.load(\"f1\")\n",
        "\n",
        "def compute_boundary_similarity(result: str, actual: str):\n",
        "  s1 = segeval.convert_nltk_to_masses(result, boundary_symbol='1')\n",
        "  s2 = segeval.convert_nltk_to_masses(actual, boundary_symbol='1')\n",
        "  score = segeval.boundary_similarity(s1, s2)\n",
        "  return float(score)\n",
        "\n",
        "def compute_segment_metrics(predictions, labels):\n",
        "  pk_scores = []\n",
        "  b_scores = []\n",
        "\n",
        "  for p, l in zip(predictions, labels):\n",
        "    invalid_indices = np.where(l == -100)[0]\n",
        "    if len(invalid_indices) != 0:\n",
        "      last_index = invalid_indices[0]\n",
        "      p = p[:last_index]\n",
        "      l = l[:last_index]\n",
        "\n",
        "    # Last entry needs to be chopped off because\n",
        "    # in NLTK a bit means a boundary while in dataset\n",
        "    # a bit means a sentence\n",
        "    predicted_boundaries = \"\".join([str(c) for c in p])[:-1]\n",
        "    actual_boundaries = \"\".join([str(c) for c in l])[:-1]\n",
        "\n",
        "    pk = nltk.pk(actual_boundaries, predicted_boundaries)\n",
        "    b = compute_boundary_similarity(predicted_boundaries, actual_boundaries)\n",
        "\n",
        "    pk_scores.append(pk)\n",
        "    b_scores.append(b)\n",
        "\n",
        "  average_pk = sum(pk_scores)/len(pk_scores)\n",
        "  average_b = sum(b_scores)/len(b_scores)\n",
        "\n",
        "  return {\n",
        "      \"pk\": average_pk,\n",
        "      \"boundary_similarity\": average_b\n",
        "  }\n",
        "\n",
        "def compute_individual_metrics(predictions, labels):\n",
        "  predictions = np.ravel(predictions)\n",
        "  labels = np.ravel(labels)\n",
        "  valid_indices = np.where(labels != -100)\n",
        "\n",
        "  predictions = predictions[valid_indices]\n",
        "  labels = labels[valid_indices]\n",
        "\n",
        "  return {\n",
        "    \"accuracy\": accuracy_metric.compute(predictions=predictions, references=labels)[\"accuracy\"],\n",
        "    \"precision\": precision_metric.compute(predictions=predictions, references=labels)[\"precision\"],\n",
        "    \"recall\": recall_metric.compute(predictions=predictions, references=labels)[\"recall\"],\n",
        "    \"f1\": f1_metric.compute(predictions=predictions, references=labels)[\"f1\"]\n",
        "  }\n",
        "\n",
        "\n",
        "def compute_metrics(eval_pred):\n",
        "  logits = eval_pred.predictions\n",
        "  labels = eval_pred.label_ids\n",
        "  predictions = np.argmax(logits, axis=2)\n",
        "\n",
        "  individual_metrics = compute_individual_metrics(predictions, labels)\n",
        "  segment_metrics = compute_segment_metrics(predictions, labels)\n",
        "\n",
        "  return individual_metrics | segment_metrics\n"
      ]
    },
    {
      "cell_type": "code",
      "execution_count": null,
      "metadata": {
        "id": "jmDBzW699Qjn"
      },
      "outputs": [],
      "source": [
        "from transformers import Trainer\n",
        "\n",
        "class_weights = [1.0, 2.0]\n",
        "\n",
        "class WeightedCrossEntropyTrainer(Trainer):\n",
        "  def __init__(self, *args, **kwargs):\n",
        "      super().__init__(*args, **kwargs)\n",
        "\n",
        "  def compute_loss(self, model, inputs, return_outputs=False):\n",
        "        labels = inputs.get(\"labels_list\")\n",
        "\n",
        "        # forward pass\n",
        "        outputs = model(**inputs)\n",
        "        logits = outputs['logits']\n",
        "        # compute custom loss\n",
        "        loss_fct = nn.CrossEntropyLoss(weight=torch.tensor(class_weights).to(device))\n",
        "        loss = loss_fct(logits.view(-1, self.model.num_labels), labels.view(-1))\n",
        "        return (loss, outputs) if return_outputs else loss"
      ]
    },
    {
      "cell_type": "code",
      "execution_count": null,
      "metadata": {
        "id": "8P3z6rwhGg8V"
      },
      "outputs": [],
      "source": [
        "from transformers import Trainer, TrainingArguments, DataCollatorForTokenClassification\n",
        "\n",
        "training_args = TrainingArguments(\n",
        "    report_to=\"wandb\",\n",
        "    output_dir=\"trainer_output\",\n",
        "    optim=\"adamw_torch\",\n",
        "    learning_rate=2.5e-5,\n",
        "    lr_scheduler_type=\"cosine\",\n",
        "\n",
        "    num_train_epochs=16,\n",
        "    remove_unused_columns=False,\n",
        "    eval_strategy=\"steps\",\n",
        "    eval_steps=500,\n",
        "    load_best_model_at_end=True,\n",
        "    metric_for_best_model=\"boundary_similarity\",\n",
        "\n",
        "    save_strategy=\"steps\",\n",
        "    save_steps = 2000,\n",
        "    save_total_limit=1,\n",
        "    # Optimizations for gpu:\n",
        "    per_device_train_batch_size=16,\n",
        "    # gradient_accumulation_steps=8,\n",
        "    per_device_eval_batch_size=16,\n",
        "    # fp16=True,\n",
        "    gradient_checkpointing=True\n",
        ")\n",
        "\n",
        "trainer = WeightedCrossEntropyTrainer(\n",
        "    model,\n",
        "    args=training_args,\n",
        "    train_dataset=dataset[\"train\"],\n",
        "    eval_dataset=dataset[\"validation\"],\n",
        "    data_collator=CustomDataCollator(tokenizer=tokenizer),\n",
        "    compute_metrics=compute_metrics\n",
        ")"
      ]
    },
    {
      "cell_type": "code",
      "execution_count": null,
      "metadata": {
        "colab": {
          "base_uri": "https://localhost:8080/",
          "height": 162
        },
        "id": "z7R_EwPlCRZE",
        "outputId": "7463921e-a4cb-4507-c6e9-d3b069cc2f92"
      },
      "outputs": [
        {
          "name": "stderr",
          "output_type": "stream",
          "text": [
            "<ipython-input-28-8fe95d31cfb9>:15: UserWarning: To copy construct from a tensor, it is recommended to use sourceTensor.clone().detach() or sourceTensor.clone().detach().requires_grad_(True), rather than torch.tensor(sourceTensor).\n",
            "  \"labels_list\": torch.tensor(padded_labels_list)\n",
            "/usr/local/lib/python3.10/dist-packages/torch/utils/checkpoint.py:464: UserWarning: torch.utils.checkpoint: the use_reentrant parameter should be passed explicitly. In version 2.4 we will raise an exception if use_reentrant is not passed. use_reentrant=False is recommended, but if you need to preserve the current default behavior, you can pass use_reentrant=True. Refer to docs for more details on the differences between the two variants.\n",
            "  warnings.warn(\n"
          ]
        },
        {
          "data": {
            "text/html": [
              "\n",
              "    <div>\n",
              "      \n",
              "      <progress value='21' max='14384' style='width:300px; height:20px; vertical-align: middle;'></progress>\n",
              "      [   21/14384 02:20 < 29:32:07, 0.14 it/s, Epoch 0.02/16]\n",
              "    </div>\n",
              "    <table border=\"1\" class=\"dataframe\">\n",
              "  <thead>\n",
              " <tr style=\"text-align: left;\">\n",
              "      <th>Step</th>\n",
              "      <th>Training Loss</th>\n",
              "      <th>Validation Loss</th>\n",
              "    </tr>\n",
              "  </thead>\n",
              "  <tbody>\n",
              "  </tbody>\n",
              "</table><p>"
            ],
            "text/plain": [
              "<IPython.core.display.HTML object>"
            ]
          },
          "metadata": {},
          "output_type": "display_data"
        }
      ],
      "source": [
        "trainer.train()\n",
        "wandb.finish()"
      ]
    }
  ],
  "metadata": {
    "accelerator": "GPU",
    "colab": {
      "gpuType": "T4",
      "provenance": []
    },
    "kernelspec": {
      "display_name": "Python 3",
      "name": "python3"
    },
    "language_info": {
      "name": "python"
    },
    "widgets": {
      "application/vnd.jupyter.widget-state+json": {
        "0250a2072c9f4c7cbf961204bee90d8e": {
          "model_module": "@jupyter-widgets/controls",
          "model_module_version": "1.5.0",
          "model_name": "DescriptionStyleModel",
          "state": {
            "_model_module": "@jupyter-widgets/controls",
            "_model_module_version": "1.5.0",
            "_model_name": "DescriptionStyleModel",
            "_view_count": null,
            "_view_module": "@jupyter-widgets/base",
            "_view_module_version": "1.2.0",
            "_view_name": "StyleView",
            "description_width": ""
          }
        },
        "1197f394a3924cbaba0f74a7ea960554": {
          "model_module": "@jupyter-widgets/base",
          "model_module_version": "1.2.0",
          "model_name": "LayoutModel",
          "state": {
            "_model_module": "@jupyter-widgets/base",
            "_model_module_version": "1.2.0",
            "_model_name": "LayoutModel",
            "_view_count": null,
            "_view_module": "@jupyter-widgets/base",
            "_view_module_version": "1.2.0",
            "_view_name": "LayoutView",
            "align_content": null,
            "align_items": null,
            "align_self": null,
            "border": null,
            "bottom": null,
            "display": null,
            "flex": null,
            "flex_flow": null,
            "grid_area": null,
            "grid_auto_columns": null,
            "grid_auto_flow": null,
            "grid_auto_rows": null,
            "grid_column": null,
            "grid_gap": null,
            "grid_row": null,
            "grid_template_areas": null,
            "grid_template_columns": null,
            "grid_template_rows": null,
            "height": null,
            "justify_content": null,
            "justify_items": null,
            "left": null,
            "margin": null,
            "max_height": null,
            "max_width": null,
            "min_height": null,
            "min_width": null,
            "object_fit": null,
            "object_position": null,
            "order": null,
            "overflow": null,
            "overflow_x": null,
            "overflow_y": null,
            "padding": null,
            "right": null,
            "top": null,
            "visibility": null,
            "width": null
          }
        },
        "1346b570d7164ca6864cc48775e5e85a": {
          "model_module": "@jupyter-widgets/controls",
          "model_module_version": "1.5.0",
          "model_name": "HBoxModel",
          "state": {
            "_dom_classes": [],
            "_model_module": "@jupyter-widgets/controls",
            "_model_module_version": "1.5.0",
            "_model_name": "HBoxModel",
            "_view_count": null,
            "_view_module": "@jupyter-widgets/controls",
            "_view_module_version": "1.5.0",
            "_view_name": "HBoxView",
            "box_style": "",
            "children": [
              "IPY_MODEL_cf34d6ea303c4c8f9b4d1ac1d3966dc3",
              "IPY_MODEL_e95094ba638849b2b8dddbc0226adeab",
              "IPY_MODEL_fc54e5cc48be432e8cb5158d8f37ca85"
            ],
            "layout": "IPY_MODEL_55058db65dcd45ec8f7a2919994a021f"
          }
        },
        "15d71ad1cbe24507932b1cc9cdd9b5c3": {
          "model_module": "@jupyter-widgets/base",
          "model_module_version": "1.2.0",
          "model_name": "LayoutModel",
          "state": {
            "_model_module": "@jupyter-widgets/base",
            "_model_module_version": "1.2.0",
            "_model_name": "LayoutModel",
            "_view_count": null,
            "_view_module": "@jupyter-widgets/base",
            "_view_module_version": "1.2.0",
            "_view_name": "LayoutView",
            "align_content": null,
            "align_items": null,
            "align_self": null,
            "border": null,
            "bottom": null,
            "display": null,
            "flex": null,
            "flex_flow": null,
            "grid_area": null,
            "grid_auto_columns": null,
            "grid_auto_flow": null,
            "grid_auto_rows": null,
            "grid_column": null,
            "grid_gap": null,
            "grid_row": null,
            "grid_template_areas": null,
            "grid_template_columns": null,
            "grid_template_rows": null,
            "height": null,
            "justify_content": null,
            "justify_items": null,
            "left": null,
            "margin": null,
            "max_height": null,
            "max_width": null,
            "min_height": null,
            "min_width": null,
            "object_fit": null,
            "object_position": null,
            "order": null,
            "overflow": null,
            "overflow_x": null,
            "overflow_y": null,
            "padding": null,
            "right": null,
            "top": null,
            "visibility": null,
            "width": null
          }
        },
        "16181d228eff49c393f573566a75243c": {
          "model_module": "@jupyter-widgets/controls",
          "model_module_version": "1.5.0",
          "model_name": "ProgressStyleModel",
          "state": {
            "_model_module": "@jupyter-widgets/controls",
            "_model_module_version": "1.5.0",
            "_model_name": "ProgressStyleModel",
            "_view_count": null,
            "_view_module": "@jupyter-widgets/base",
            "_view_module_version": "1.2.0",
            "_view_name": "StyleView",
            "bar_color": null,
            "description_width": ""
          }
        },
        "2738fb0dff4045bcaee91be5e3773206": {
          "model_module": "@jupyter-widgets/base",
          "model_module_version": "1.2.0",
          "model_name": "LayoutModel",
          "state": {
            "_model_module": "@jupyter-widgets/base",
            "_model_module_version": "1.2.0",
            "_model_name": "LayoutModel",
            "_view_count": null,
            "_view_module": "@jupyter-widgets/base",
            "_view_module_version": "1.2.0",
            "_view_name": "LayoutView",
            "align_content": null,
            "align_items": null,
            "align_self": null,
            "border": null,
            "bottom": null,
            "display": null,
            "flex": null,
            "flex_flow": null,
            "grid_area": null,
            "grid_auto_columns": null,
            "grid_auto_flow": null,
            "grid_auto_rows": null,
            "grid_column": null,
            "grid_gap": null,
            "grid_row": null,
            "grid_template_areas": null,
            "grid_template_columns": null,
            "grid_template_rows": null,
            "height": null,
            "justify_content": null,
            "justify_items": null,
            "left": null,
            "margin": null,
            "max_height": null,
            "max_width": null,
            "min_height": null,
            "min_width": null,
            "object_fit": null,
            "object_position": null,
            "order": null,
            "overflow": null,
            "overflow_x": null,
            "overflow_y": null,
            "padding": null,
            "right": null,
            "top": null,
            "visibility": null,
            "width": null
          }
        },
        "2e05b40c65fc44cfa78383db464dc3d6": {
          "model_module": "@jupyter-widgets/base",
          "model_module_version": "1.2.0",
          "model_name": "LayoutModel",
          "state": {
            "_model_module": "@jupyter-widgets/base",
            "_model_module_version": "1.2.0",
            "_model_name": "LayoutModel",
            "_view_count": null,
            "_view_module": "@jupyter-widgets/base",
            "_view_module_version": "1.2.0",
            "_view_name": "LayoutView",
            "align_content": null,
            "align_items": null,
            "align_self": null,
            "border": null,
            "bottom": null,
            "display": null,
            "flex": null,
            "flex_flow": null,
            "grid_area": null,
            "grid_auto_columns": null,
            "grid_auto_flow": null,
            "grid_auto_rows": null,
            "grid_column": null,
            "grid_gap": null,
            "grid_row": null,
            "grid_template_areas": null,
            "grid_template_columns": null,
            "grid_template_rows": null,
            "height": null,
            "justify_content": null,
            "justify_items": null,
            "left": null,
            "margin": null,
            "max_height": null,
            "max_width": null,
            "min_height": null,
            "min_width": null,
            "object_fit": null,
            "object_position": null,
            "order": null,
            "overflow": null,
            "overflow_x": null,
            "overflow_y": null,
            "padding": null,
            "right": null,
            "top": null,
            "visibility": null,
            "width": null
          }
        },
        "3bd0a5cc3529486988206f12a3ea2897": {
          "model_module": "@jupyter-widgets/base",
          "model_module_version": "1.2.0",
          "model_name": "LayoutModel",
          "state": {
            "_model_module": "@jupyter-widgets/base",
            "_model_module_version": "1.2.0",
            "_model_name": "LayoutModel",
            "_view_count": null,
            "_view_module": "@jupyter-widgets/base",
            "_view_module_version": "1.2.0",
            "_view_name": "LayoutView",
            "align_content": null,
            "align_items": null,
            "align_self": null,
            "border": null,
            "bottom": null,
            "display": null,
            "flex": null,
            "flex_flow": null,
            "grid_area": null,
            "grid_auto_columns": null,
            "grid_auto_flow": null,
            "grid_auto_rows": null,
            "grid_column": null,
            "grid_gap": null,
            "grid_row": null,
            "grid_template_areas": null,
            "grid_template_columns": null,
            "grid_template_rows": null,
            "height": null,
            "justify_content": null,
            "justify_items": null,
            "left": null,
            "margin": null,
            "max_height": null,
            "max_width": null,
            "min_height": null,
            "min_width": null,
            "object_fit": null,
            "object_position": null,
            "order": null,
            "overflow": null,
            "overflow_x": null,
            "overflow_y": null,
            "padding": null,
            "right": null,
            "top": null,
            "visibility": null,
            "width": null
          }
        },
        "4986d9039c4c4f1fa7b990b695faf8a9": {
          "model_module": "@jupyter-widgets/controls",
          "model_module_version": "1.5.0",
          "model_name": "ProgressStyleModel",
          "state": {
            "_model_module": "@jupyter-widgets/controls",
            "_model_module_version": "1.5.0",
            "_model_name": "ProgressStyleModel",
            "_view_count": null,
            "_view_module": "@jupyter-widgets/base",
            "_view_module_version": "1.2.0",
            "_view_name": "StyleView",
            "bar_color": null,
            "description_width": ""
          }
        },
        "55058db65dcd45ec8f7a2919994a021f": {
          "model_module": "@jupyter-widgets/base",
          "model_module_version": "1.2.0",
          "model_name": "LayoutModel",
          "state": {
            "_model_module": "@jupyter-widgets/base",
            "_model_module_version": "1.2.0",
            "_model_name": "LayoutModel",
            "_view_count": null,
            "_view_module": "@jupyter-widgets/base",
            "_view_module_version": "1.2.0",
            "_view_name": "LayoutView",
            "align_content": null,
            "align_items": null,
            "align_self": null,
            "border": null,
            "bottom": null,
            "display": null,
            "flex": null,
            "flex_flow": null,
            "grid_area": null,
            "grid_auto_columns": null,
            "grid_auto_flow": null,
            "grid_auto_rows": null,
            "grid_column": null,
            "grid_gap": null,
            "grid_row": null,
            "grid_template_areas": null,
            "grid_template_columns": null,
            "grid_template_rows": null,
            "height": null,
            "justify_content": null,
            "justify_items": null,
            "left": null,
            "margin": null,
            "max_height": null,
            "max_width": null,
            "min_height": null,
            "min_width": null,
            "object_fit": null,
            "object_position": null,
            "order": null,
            "overflow": null,
            "overflow_x": null,
            "overflow_y": null,
            "padding": null,
            "right": null,
            "top": null,
            "visibility": null,
            "width": null
          }
        },
        "61d8d84e7ca84bfbbfa2863e4d519333": {
          "model_module": "@jupyter-widgets/base",
          "model_module_version": "1.2.0",
          "model_name": "LayoutModel",
          "state": {
            "_model_module": "@jupyter-widgets/base",
            "_model_module_version": "1.2.0",
            "_model_name": "LayoutModel",
            "_view_count": null,
            "_view_module": "@jupyter-widgets/base",
            "_view_module_version": "1.2.0",
            "_view_name": "LayoutView",
            "align_content": null,
            "align_items": null,
            "align_self": null,
            "border": null,
            "bottom": null,
            "display": null,
            "flex": null,
            "flex_flow": null,
            "grid_area": null,
            "grid_auto_columns": null,
            "grid_auto_flow": null,
            "grid_auto_rows": null,
            "grid_column": null,
            "grid_gap": null,
            "grid_row": null,
            "grid_template_areas": null,
            "grid_template_columns": null,
            "grid_template_rows": null,
            "height": null,
            "justify_content": null,
            "justify_items": null,
            "left": null,
            "margin": null,
            "max_height": null,
            "max_width": null,
            "min_height": null,
            "min_width": null,
            "object_fit": null,
            "object_position": null,
            "order": null,
            "overflow": null,
            "overflow_x": null,
            "overflow_y": null,
            "padding": null,
            "right": null,
            "top": null,
            "visibility": null,
            "width": null
          }
        },
        "64fb5798af5e4b9caf3a4b60331a1f33": {
          "model_module": "@jupyter-widgets/base",
          "model_module_version": "1.2.0",
          "model_name": "LayoutModel",
          "state": {
            "_model_module": "@jupyter-widgets/base",
            "_model_module_version": "1.2.0",
            "_model_name": "LayoutModel",
            "_view_count": null,
            "_view_module": "@jupyter-widgets/base",
            "_view_module_version": "1.2.0",
            "_view_name": "LayoutView",
            "align_content": null,
            "align_items": null,
            "align_self": null,
            "border": null,
            "bottom": null,
            "display": null,
            "flex": null,
            "flex_flow": null,
            "grid_area": null,
            "grid_auto_columns": null,
            "grid_auto_flow": null,
            "grid_auto_rows": null,
            "grid_column": null,
            "grid_gap": null,
            "grid_row": null,
            "grid_template_areas": null,
            "grid_template_columns": null,
            "grid_template_rows": null,
            "height": null,
            "justify_content": null,
            "justify_items": null,
            "left": null,
            "margin": null,
            "max_height": null,
            "max_width": null,
            "min_height": null,
            "min_width": null,
            "object_fit": null,
            "object_position": null,
            "order": null,
            "overflow": null,
            "overflow_x": null,
            "overflow_y": null,
            "padding": null,
            "right": null,
            "top": null,
            "visibility": null,
            "width": null
          }
        },
        "67bd2059c47f439b94778604cf27c6fd": {
          "model_module": "@jupyter-widgets/controls",
          "model_module_version": "1.5.0",
          "model_name": "ProgressStyleModel",
          "state": {
            "_model_module": "@jupyter-widgets/controls",
            "_model_module_version": "1.5.0",
            "_model_name": "ProgressStyleModel",
            "_view_count": null,
            "_view_module": "@jupyter-widgets/base",
            "_view_module_version": "1.2.0",
            "_view_name": "StyleView",
            "bar_color": null,
            "description_width": ""
          }
        },
        "7920c3c5e1e14d9699121bc22f19c3e2": {
          "model_module": "@jupyter-widgets/controls",
          "model_module_version": "1.5.0",
          "model_name": "FloatProgressModel",
          "state": {
            "_dom_classes": [],
            "_model_module": "@jupyter-widgets/controls",
            "_model_module_version": "1.5.0",
            "_model_name": "FloatProgressModel",
            "_view_count": null,
            "_view_module": "@jupyter-widgets/controls",
            "_view_module_version": "1.5.0",
            "_view_name": "ProgressView",
            "bar_style": "success",
            "description": "",
            "description_tooltip": null,
            "layout": "IPY_MODEL_64fb5798af5e4b9caf3a4b60331a1f33",
            "max": 14377,
            "min": 0,
            "orientation": "horizontal",
            "style": "IPY_MODEL_16181d228eff49c393f573566a75243c",
            "value": 14377
          }
        },
        "7db20907e6894191aedda97574436e88": {
          "model_module": "@jupyter-widgets/controls",
          "model_module_version": "1.5.0",
          "model_name": "DescriptionStyleModel",
          "state": {
            "_model_module": "@jupyter-widgets/controls",
            "_model_module_version": "1.5.0",
            "_model_name": "DescriptionStyleModel",
            "_view_count": null,
            "_view_module": "@jupyter-widgets/base",
            "_view_module_version": "1.2.0",
            "_view_name": "StyleView",
            "description_width": ""
          }
        },
        "840490d4f4a1414e90c69c062ef62441": {
          "model_module": "@jupyter-widgets/controls",
          "model_module_version": "1.5.0",
          "model_name": "DescriptionStyleModel",
          "state": {
            "_model_module": "@jupyter-widgets/controls",
            "_model_module_version": "1.5.0",
            "_model_name": "DescriptionStyleModel",
            "_view_count": null,
            "_view_module": "@jupyter-widgets/base",
            "_view_module_version": "1.2.0",
            "_view_name": "StyleView",
            "description_width": ""
          }
        },
        "8bc1d4c75f0d47ceaa72bceb6ae5cb96": {
          "model_module": "@jupyter-widgets/controls",
          "model_module_version": "1.5.0",
          "model_name": "FloatProgressModel",
          "state": {
            "_dom_classes": [],
            "_model_module": "@jupyter-widgets/controls",
            "_model_module_version": "1.5.0",
            "_model_name": "FloatProgressModel",
            "_view_count": null,
            "_view_module": "@jupyter-widgets/controls",
            "_view_module_version": "1.5.0",
            "_view_name": "ProgressView",
            "bar_style": "success",
            "description": "",
            "description_tooltip": null,
            "layout": "IPY_MODEL_99f84e2b25334b9b8fae0e28d62e895e",
            "max": 1266,
            "min": 0,
            "orientation": "horizontal",
            "style": "IPY_MODEL_67bd2059c47f439b94778604cf27c6fd",
            "value": 1266
          }
        },
        "9474016fae314d5188a914705cdc24da": {
          "model_module": "@jupyter-widgets/controls",
          "model_module_version": "1.5.0",
          "model_name": "HTMLModel",
          "state": {
            "_dom_classes": [],
            "_model_module": "@jupyter-widgets/controls",
            "_model_module_version": "1.5.0",
            "_model_name": "HTMLModel",
            "_view_count": null,
            "_view_module": "@jupyter-widgets/controls",
            "_view_module_version": "1.5.0",
            "_view_name": "HTMLView",
            "description": "",
            "description_tooltip": null,
            "layout": "IPY_MODEL_e6e97034787a47d3a3daf2a8b7114411",
            "placeholder": "​",
            "style": "IPY_MODEL_7db20907e6894191aedda97574436e88",
            "value": " 14377/14377 [00:00&lt;00:00, 24400.46 examples/s]"
          }
        },
        "94ff240af15446b8ac45c5e009fe2a7e": {
          "model_module": "@jupyter-widgets/base",
          "model_module_version": "1.2.0",
          "model_name": "LayoutModel",
          "state": {
            "_model_module": "@jupyter-widgets/base",
            "_model_module_version": "1.2.0",
            "_model_name": "LayoutModel",
            "_view_count": null,
            "_view_module": "@jupyter-widgets/base",
            "_view_module_version": "1.2.0",
            "_view_name": "LayoutView",
            "align_content": null,
            "align_items": null,
            "align_self": null,
            "border": null,
            "bottom": null,
            "display": null,
            "flex": null,
            "flex_flow": null,
            "grid_area": null,
            "grid_auto_columns": null,
            "grid_auto_flow": null,
            "grid_auto_rows": null,
            "grid_column": null,
            "grid_gap": null,
            "grid_row": null,
            "grid_template_areas": null,
            "grid_template_columns": null,
            "grid_template_rows": null,
            "height": null,
            "justify_content": null,
            "justify_items": null,
            "left": null,
            "margin": null,
            "max_height": null,
            "max_width": null,
            "min_height": null,
            "min_width": null,
            "object_fit": null,
            "object_position": null,
            "order": null,
            "overflow": null,
            "overflow_x": null,
            "overflow_y": null,
            "padding": null,
            "right": null,
            "top": null,
            "visibility": null,
            "width": null
          }
        },
        "99f84e2b25334b9b8fae0e28d62e895e": {
          "model_module": "@jupyter-widgets/base",
          "model_module_version": "1.2.0",
          "model_name": "LayoutModel",
          "state": {
            "_model_module": "@jupyter-widgets/base",
            "_model_module_version": "1.2.0",
            "_model_name": "LayoutModel",
            "_view_count": null,
            "_view_module": "@jupyter-widgets/base",
            "_view_module_version": "1.2.0",
            "_view_name": "LayoutView",
            "align_content": null,
            "align_items": null,
            "align_self": null,
            "border": null,
            "bottom": null,
            "display": null,
            "flex": null,
            "flex_flow": null,
            "grid_area": null,
            "grid_auto_columns": null,
            "grid_auto_flow": null,
            "grid_auto_rows": null,
            "grid_column": null,
            "grid_gap": null,
            "grid_row": null,
            "grid_template_areas": null,
            "grid_template_columns": null,
            "grid_template_rows": null,
            "height": null,
            "justify_content": null,
            "justify_items": null,
            "left": null,
            "margin": null,
            "max_height": null,
            "max_width": null,
            "min_height": null,
            "min_width": null,
            "object_fit": null,
            "object_position": null,
            "order": null,
            "overflow": null,
            "overflow_x": null,
            "overflow_y": null,
            "padding": null,
            "right": null,
            "top": null,
            "visibility": null,
            "width": null
          }
        },
        "9fdc3cbd41e744d2af9e03964ca19b8b": {
          "model_module": "@jupyter-widgets/controls",
          "model_module_version": "1.5.0",
          "model_name": "HTMLModel",
          "state": {
            "_dom_classes": [],
            "_model_module": "@jupyter-widgets/controls",
            "_model_module_version": "1.5.0",
            "_model_name": "HTMLModel",
            "_view_count": null,
            "_view_module": "@jupyter-widgets/controls",
            "_view_module_version": "1.5.0",
            "_view_name": "HTMLView",
            "description": "",
            "description_tooltip": null,
            "layout": "IPY_MODEL_94ff240af15446b8ac45c5e009fe2a7e",
            "placeholder": "​",
            "style": "IPY_MODEL_fb43f01ae6ab4676a5e2802970229122",
            "value": "Saving the dataset (1/1 shards): 100%"
          }
        },
        "aea6f9e2a9a146749c405bb4f45a5639": {
          "model_module": "@jupyter-widgets/controls",
          "model_module_version": "1.5.0",
          "model_name": "HBoxModel",
          "state": {
            "_dom_classes": [],
            "_model_module": "@jupyter-widgets/controls",
            "_model_module_version": "1.5.0",
            "_model_name": "HBoxModel",
            "_view_count": null,
            "_view_module": "@jupyter-widgets/controls",
            "_view_module_version": "1.5.0",
            "_view_name": "HBoxView",
            "box_style": "",
            "children": [
              "IPY_MODEL_cadec94c152047cea966849a4cf354bc",
              "IPY_MODEL_7920c3c5e1e14d9699121bc22f19c3e2",
              "IPY_MODEL_9474016fae314d5188a914705cdc24da"
            ],
            "layout": "IPY_MODEL_61d8d84e7ca84bfbbfa2863e4d519333"
          }
        },
        "bffd3021960c463fa394656d1c2eef38": {
          "model_module": "@jupyter-widgets/base",
          "model_module_version": "1.2.0",
          "model_name": "LayoutModel",
          "state": {
            "_model_module": "@jupyter-widgets/base",
            "_model_module_version": "1.2.0",
            "_model_name": "LayoutModel",
            "_view_count": null,
            "_view_module": "@jupyter-widgets/base",
            "_view_module_version": "1.2.0",
            "_view_name": "LayoutView",
            "align_content": null,
            "align_items": null,
            "align_self": null,
            "border": null,
            "bottom": null,
            "display": null,
            "flex": null,
            "flex_flow": null,
            "grid_area": null,
            "grid_auto_columns": null,
            "grid_auto_flow": null,
            "grid_auto_rows": null,
            "grid_column": null,
            "grid_gap": null,
            "grid_row": null,
            "grid_template_areas": null,
            "grid_template_columns": null,
            "grid_template_rows": null,
            "height": null,
            "justify_content": null,
            "justify_items": null,
            "left": null,
            "margin": null,
            "max_height": null,
            "max_width": null,
            "min_height": null,
            "min_width": null,
            "object_fit": null,
            "object_position": null,
            "order": null,
            "overflow": null,
            "overflow_x": null,
            "overflow_y": null,
            "padding": null,
            "right": null,
            "top": null,
            "visibility": null,
            "width": null
          }
        },
        "cadec94c152047cea966849a4cf354bc": {
          "model_module": "@jupyter-widgets/controls",
          "model_module_version": "1.5.0",
          "model_name": "HTMLModel",
          "state": {
            "_dom_classes": [],
            "_model_module": "@jupyter-widgets/controls",
            "_model_module_version": "1.5.0",
            "_model_name": "HTMLModel",
            "_view_count": null,
            "_view_module": "@jupyter-widgets/controls",
            "_view_module_version": "1.5.0",
            "_view_name": "HTMLView",
            "description": "",
            "description_tooltip": null,
            "layout": "IPY_MODEL_2e05b40c65fc44cfa78383db464dc3d6",
            "placeholder": "​",
            "style": "IPY_MODEL_f1e06a61bcb049a09f0411ccaf1ed46f",
            "value": "Saving the dataset (1/1 shards): 100%"
          }
        },
        "ccc3ef6148544feba890e1a14b398a88": {
          "model_module": "@jupyter-widgets/controls",
          "model_module_version": "1.5.0",
          "model_name": "HBoxModel",
          "state": {
            "_dom_classes": [],
            "_model_module": "@jupyter-widgets/controls",
            "_model_module_version": "1.5.0",
            "_model_name": "HBoxModel",
            "_view_count": null,
            "_view_module": "@jupyter-widgets/controls",
            "_view_module_version": "1.5.0",
            "_view_name": "HBoxView",
            "box_style": "",
            "children": [
              "IPY_MODEL_9fdc3cbd41e744d2af9e03964ca19b8b",
              "IPY_MODEL_8bc1d4c75f0d47ceaa72bceb6ae5cb96",
              "IPY_MODEL_f0c6d32e7582414891169f7d2210cf13"
            ],
            "layout": "IPY_MODEL_15d71ad1cbe24507932b1cc9cdd9b5c3"
          }
        },
        "cf34d6ea303c4c8f9b4d1ac1d3966dc3": {
          "model_module": "@jupyter-widgets/controls",
          "model_module_version": "1.5.0",
          "model_name": "HTMLModel",
          "state": {
            "_dom_classes": [],
            "_model_module": "@jupyter-widgets/controls",
            "_model_module_version": "1.5.0",
            "_model_name": "HTMLModel",
            "_view_count": null,
            "_view_module": "@jupyter-widgets/controls",
            "_view_module_version": "1.5.0",
            "_view_name": "HTMLView",
            "description": "",
            "description_tooltip": null,
            "layout": "IPY_MODEL_bffd3021960c463fa394656d1c2eef38",
            "placeholder": "​",
            "style": "IPY_MODEL_0250a2072c9f4c7cbf961204bee90d8e",
            "value": "Saving the dataset (1/1 shards): 100%"
          }
        },
        "e5d7e1ff59fa4a1ea549e91969e00180": {
          "model_module": "@jupyter-widgets/controls",
          "model_module_version": "1.5.0",
          "model_name": "DescriptionStyleModel",
          "state": {
            "_model_module": "@jupyter-widgets/controls",
            "_model_module_version": "1.5.0",
            "_model_name": "DescriptionStyleModel",
            "_view_count": null,
            "_view_module": "@jupyter-widgets/base",
            "_view_module_version": "1.2.0",
            "_view_name": "StyleView",
            "description_width": ""
          }
        },
        "e6e97034787a47d3a3daf2a8b7114411": {
          "model_module": "@jupyter-widgets/base",
          "model_module_version": "1.2.0",
          "model_name": "LayoutModel",
          "state": {
            "_model_module": "@jupyter-widgets/base",
            "_model_module_version": "1.2.0",
            "_model_name": "LayoutModel",
            "_view_count": null,
            "_view_module": "@jupyter-widgets/base",
            "_view_module_version": "1.2.0",
            "_view_name": "LayoutView",
            "align_content": null,
            "align_items": null,
            "align_self": null,
            "border": null,
            "bottom": null,
            "display": null,
            "flex": null,
            "flex_flow": null,
            "grid_area": null,
            "grid_auto_columns": null,
            "grid_auto_flow": null,
            "grid_auto_rows": null,
            "grid_column": null,
            "grid_gap": null,
            "grid_row": null,
            "grid_template_areas": null,
            "grid_template_columns": null,
            "grid_template_rows": null,
            "height": null,
            "justify_content": null,
            "justify_items": null,
            "left": null,
            "margin": null,
            "max_height": null,
            "max_width": null,
            "min_height": null,
            "min_width": null,
            "object_fit": null,
            "object_position": null,
            "order": null,
            "overflow": null,
            "overflow_x": null,
            "overflow_y": null,
            "padding": null,
            "right": null,
            "top": null,
            "visibility": null,
            "width": null
          }
        },
        "e95094ba638849b2b8dddbc0226adeab": {
          "model_module": "@jupyter-widgets/controls",
          "model_module_version": "1.5.0",
          "model_name": "FloatProgressModel",
          "state": {
            "_dom_classes": [],
            "_model_module": "@jupyter-widgets/controls",
            "_model_module_version": "1.5.0",
            "_model_name": "FloatProgressModel",
            "_view_count": null,
            "_view_module": "@jupyter-widgets/controls",
            "_view_module_version": "1.5.0",
            "_view_name": "ProgressView",
            "bar_style": "success",
            "description": "",
            "description_tooltip": null,
            "layout": "IPY_MODEL_1197f394a3924cbaba0f74a7ea960554",
            "max": 1256,
            "min": 0,
            "orientation": "horizontal",
            "style": "IPY_MODEL_4986d9039c4c4f1fa7b990b695faf8a9",
            "value": 1256
          }
        },
        "f0c6d32e7582414891169f7d2210cf13": {
          "model_module": "@jupyter-widgets/controls",
          "model_module_version": "1.5.0",
          "model_name": "HTMLModel",
          "state": {
            "_dom_classes": [],
            "_model_module": "@jupyter-widgets/controls",
            "_model_module_version": "1.5.0",
            "_model_name": "HTMLModel",
            "_view_count": null,
            "_view_module": "@jupyter-widgets/controls",
            "_view_module_version": "1.5.0",
            "_view_name": "HTMLView",
            "description": "",
            "description_tooltip": null,
            "layout": "IPY_MODEL_2738fb0dff4045bcaee91be5e3773206",
            "placeholder": "​",
            "style": "IPY_MODEL_840490d4f4a1414e90c69c062ef62441",
            "value": " 1266/1266 [00:01&lt;00:00, 868.61 examples/s]"
          }
        },
        "f1e06a61bcb049a09f0411ccaf1ed46f": {
          "model_module": "@jupyter-widgets/controls",
          "model_module_version": "1.5.0",
          "model_name": "DescriptionStyleModel",
          "state": {
            "_model_module": "@jupyter-widgets/controls",
            "_model_module_version": "1.5.0",
            "_model_name": "DescriptionStyleModel",
            "_view_count": null,
            "_view_module": "@jupyter-widgets/base",
            "_view_module_version": "1.2.0",
            "_view_name": "StyleView",
            "description_width": ""
          }
        },
        "fb43f01ae6ab4676a5e2802970229122": {
          "model_module": "@jupyter-widgets/controls",
          "model_module_version": "1.5.0",
          "model_name": "DescriptionStyleModel",
          "state": {
            "_model_module": "@jupyter-widgets/controls",
            "_model_module_version": "1.5.0",
            "_model_name": "DescriptionStyleModel",
            "_view_count": null,
            "_view_module": "@jupyter-widgets/base",
            "_view_module_version": "1.2.0",
            "_view_name": "StyleView",
            "description_width": ""
          }
        },
        "fc54e5cc48be432e8cb5158d8f37ca85": {
          "model_module": "@jupyter-widgets/controls",
          "model_module_version": "1.5.0",
          "model_name": "HTMLModel",
          "state": {
            "_dom_classes": [],
            "_model_module": "@jupyter-widgets/controls",
            "_model_module_version": "1.5.0",
            "_model_name": "HTMLModel",
            "_view_count": null,
            "_view_module": "@jupyter-widgets/controls",
            "_view_module_version": "1.5.0",
            "_view_name": "HTMLView",
            "description": "",
            "description_tooltip": null,
            "layout": "IPY_MODEL_3bd0a5cc3529486988206f12a3ea2897",
            "placeholder": "​",
            "style": "IPY_MODEL_e5d7e1ff59fa4a1ea549e91969e00180",
            "value": " 1256/1256 [00:04&lt;00:00, 248.52 examples/s]"
          }
        }
      }
    }
  },
  "nbformat": 4,
  "nbformat_minor": 0
}
